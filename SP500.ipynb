{
  "cells": [
    {
      "cell_type": "markdown",
      "metadata": {
        "id": "rG63bncfz6lA"
      },
      "source": [
        "# Кореляція EUR/USD 2005-2021"
      ]
    },
    {
      "cell_type": "markdown",
      "metadata": {
        "id": "vS2TRFciz_Gp"
      },
      "source": [
        "Інсталяція в середовище не стандартної бібліотеки"
      ]
    },
    {
      "cell_type": "code",
      "execution_count": null,
      "metadata": {
        "id": "3FB4yH46zI7j"
      },
      "outputs": [],
      "source": [
        "pip install yfinance"
      ]
    },
    {
      "cell_type": "markdown",
      "metadata": {
        "id": "vaxCN59g0Hwq"
      },
      "source": [
        "Завантаження курсів"
      ]
    },
    {
      "cell_type": "code",
      "execution_count": null,
      "metadata": {
        "id": "GzoFmpEtybri"
      },
      "outputs": [],
      "source": [
        "# import seaborn as sns\n",
        "import pandas as pd\n",
        "import yfinance as yf\n",
        "from matplotlib import pyplot as plt\n",
        "\n",
        "EURUSD_df = yf.download('EURUSD=X', start='2005-01-02', end='2021-11-21', interval='1d', progress=False)\n",
        "# EURUSD_df[:5]\n",
        "EURUSD_df.reset_index(inplace=True) # смена индексации и дата в новую колонку\n",
        "# EURUSD_df[:5]\n",
        "EURUSD_df['Year'] = EURUSD_df['Date'].dt.year # добавляет колонку с годами\n",
        "EURUSD_df['Week'] = EURUSD_df['Date'].dt.week # добавляет колонку с неделями\n",
        "EURUSD_df[:5]"
      ]
    },
    {
      "cell_type": "markdown",
      "metadata": {
        "id": "OvVO3kyhQ66p"
      },
      "source": [
        "Формування датафрейму під задачу кореляції"
      ]
    },
    {
      "cell_type": "code",
      "execution_count": null,
      "metadata": {
        "id": "-gAIP9_8ybrm"
      },
      "outputs": [],
      "source": [
        "df = pd.DataFrame(EURUSD_df.groupby([EURUSD_df['Year'], 'Week'])['Open'].mean())\n",
        "df.reset_index(inplace=True)\n",
        "df1 = df.pivot(index='Week' , columns='Year', values='Open')\n",
        "# df1.head()\n",
        "# df1.dropna()"
      ]
    },
    {
      "cell_type": "markdown",
      "metadata": {
        "id": "OqC777K-RCMQ"
      },
      "source": [
        "Кореляція та теплова схема для візуалізації"
      ]
    },
    {
      "cell_type": "code",
      "execution_count": null,
      "metadata": {
        "id": "iyE9QN-iybro"
      },
      "outputs": [],
      "source": [
        "import seaborn as sns\n",
        "\n",
        "df1_corr = df1.corr()\n",
        "# df1_corr\n",
        "sns.heatmap(df1_corr, annot=True, cmap='RdYlGn', mask=None, center=0, square=True, linewidths=.5, fmt='.1f', annot_kws={\"fontsize\":6}, cbar_kws={\"shrink\": .8})\n",
        "# df1\n",
        "\n"
      ]
    },
    {
      "cell_type": "markdown",
      "metadata": {
        "id": "8HhhXo-mRpO6"
      },
      "source": []
    },
    {
      "cell_type": "code",
      "execution_count": null,
      "metadata": {
        "id": "JUqbZIMxybro"
      },
      "outputs": [],
      "source": [
        "import plotly.express as px\n",
        "fig = px.imshow(df1_corr)\n",
        "fig.show()"
      ]
    }
  ],
  "metadata": {
    "colab": {
      "name": "SP500.ipynb",
      "provenance": []
    },
    "interpreter": {
      "hash": "35342faabe1c8ebdcb9c3b3a4b03a9cbbe5c66683dc07eaf382d6fb162cede81"
    },
    "kernelspec": {
      "display_name": "Python 3.9.7 64-bit",
      "language": "python",
      "name": "python3"
    },
    "language_info": {
      "codemirror_mode": {
        "name": "ipython",
        "version": 3
      },
      "file_extension": ".py",
      "mimetype": "text/x-python",
      "name": "python",
      "nbconvert_exporter": "python",
      "pygments_lexer": "ipython3",
      "version": "3.10.6"
    },
    "orig_nbformat": 4
  },
  "nbformat": 4,
  "nbformat_minor": 0
}
